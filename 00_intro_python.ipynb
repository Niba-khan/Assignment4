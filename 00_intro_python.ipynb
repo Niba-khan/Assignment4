{
  "nbformat": 4,
  "nbformat_minor": 0,
  "metadata": {
    "colab": {
      "provenance": [],
      "authorship_tag": "ABX9TyMiNRTZcY06J4EY3ZtZ6lKF",
      "include_colab_link": true
    },
    "kernelspec": {
      "name": "python3",
      "display_name": "Python 3"
    },
    "language_info": {
      "name": "python"
    }
  },
  "cells": [
    {
      "cell_type": "markdown",
      "metadata": {
        "id": "view-in-github",
        "colab_type": "text"
      },
      "source": [
        "<a href=\"https://colab.research.google.com/github/Niba-khan/Assignment4/blob/main/00_intro_python.ipynb\" target=\"_parent\"><img src=\"https://colab.research.google.com/assets/colab-badge.svg\" alt=\"Open In Colab\"/></a>"
      ]
    },
    {
      "cell_type": "markdown",
      "source": [
        "# **Assignment 4  Given by Sir Hamza sawati**\n",
        "\n",
        "*00_into_Python*\n",
        "\n",
        "\n",
        "**Introduction Python:**\n",
        "\n",
        "            *\"An overview of Python programming, focusing on fundamental concepts like syntax, data types, and basic operations.\"*"
      ],
      "metadata": {
        "id": "l5JdD7-07pdi"
      }
    },
    {
      "cell_type": "code",
      "source": [
        "# 01: Add_two_number:\n",
        "def add():\n",
        "    print(\"This application adds two numbers.\")\n",
        "\n",
        "    # Taking input from user\n",
        "    first_num = int(input(\"Enter your first number: \"))\n",
        "    second_num = int(input(\"Enter your second number: \"))\n",
        "    total = first_num + second_num\n",
        "    print(f\"The total sum of {first_num} and {second_num} is {total}\")\n",
        "\n",
        "if __name__ == \"__main__\":\n",
        "    add()\n"
      ],
      "metadata": {
        "colab": {
          "base_uri": "https://localhost:8080/"
        },
        "id": "WH_-LbPO9PJA",
        "outputId": "7d63c78e-7817-4409-bd58-925fd18ca8ee"
      },
      "execution_count": null,
      "outputs": [
        {
          "output_type": "stream",
          "name": "stdout",
          "text": [
            "This application adds two numbers.\n",
            "Enter your first number: 10\n",
            "Enter your second number: 50\n",
            "The total sum of 10 and 50 is 60\n"
          ]
        }
      ]
    },
    {
      "cell_type": "code",
      "source": [
        "#02: agreement_bot´\n",
        "\n",
        "def bot():\n",
        "\n",
        "    animal = input(\"What is your favorite animal? \")\n",
        "\n",
        "    print(f\"My favorite animal is also {animal}!\")\n",
        "\n",
        "if __name__ == \"__main__\":\n",
        "    bot()\n"
      ],
      "metadata": {
        "colab": {
          "base_uri": "https://localhost:8080/"
        },
        "id": "dtjS6zA7_H1-",
        "outputId": "80782ed4-524d-438b-e619-c57ebf0f2e07"
      },
      "execution_count": null,
      "outputs": [
        {
          "output_type": "stream",
          "name": "stdout",
          "text": [
            "What is your favorite animal? rabbit\n",
            "My favorite animal is also rabbit!\n"
          ]
        }
      ]
    },
    {
      "cell_type": "code",
      "source": [
        "#03:fahrenheit_to_celsius\n",
        "\n",
        "def temp():\n",
        "    print(\"This code converts Fahrenheit to Celsius.\")\n",
        "\n",
        "    fahrenheit_degree = float(input(\"Enter temperature in Fahrenheit: \"))\n",
        "\n",
        "    celsius_degree = (fahrenheit_degree - 32) * 5.0 / 9.0\n",
        "\n",
        "    print(f\"Temperature {fahrenheit_degree}°F is equal to {celsius_degree:.2f}°C.\")\n",
        "\n",
        "if __name__ == \"__main__\":\n",
        "    temp()\n"
      ],
      "metadata": {
        "colab": {
          "base_uri": "https://localhost:8080/"
        },
        "id": "ZR2QsFB8AEu0",
        "outputId": "5020e492-359a-4ebe-fd2d-40d66c5bc8c6"
      },
      "execution_count": null,
      "outputs": [
        {
          "output_type": "stream",
          "name": "stdout",
          "text": [
            "This code converts Fahrenheit to Celsius.\n",
            "Enter temperature in Fahrenheit: 30\n",
            "Temperature 30.0°F is equal to -1.11°C.\n"
          ]
        }
      ]
    },
    {
      "cell_type": "code",
      "source": [
        "#04: how_old_are_they\n",
        "\n",
        "def age():\n",
        "\n",
        "    anton_age:int = 21\n",
        "    beth_age:int = anton_age + 6\n",
        "    chen_age:int = beth_age + 20\n",
        "    drew_age:int = chen_age + anton_age\n",
        "    ethan_age:int = chen_age\n",
        "\n",
        "    # Displaying the ages\n",
        "    print(f\"Anton is {anton_age} years old.\")\n",
        "    print(f\"Beth is {beth_age} years old.\")\n",
        "    print(f\"Chen is {chen_age} years old.\")\n",
        "    print(f\"Drew is {drew_age} years old.\")\n",
        "    print(f\"Ethan is {ethan_age} years old.\")\n",
        "\n",
        "if __name__ == '__main__':\n",
        "    age()"
      ],
      "metadata": {
        "colab": {
          "base_uri": "https://localhost:8080/"
        },
        "id": "lezleojXB7ho",
        "outputId": "cdf1ea84-98fc-4e4c-c8bd-d1e1b1a4b3ed"
      },
      "execution_count": null,
      "outputs": [
        {
          "output_type": "stream",
          "name": "stdout",
          "text": [
            "Anton is 21 years old.\n",
            "Beth is 27 years old.\n",
            "Chen is 47 years old.\n",
            "Drew is 68 years old.\n",
            "Ethan is 47 years old.\n"
          ]
        }
      ]
    },
    {
      "cell_type": "code",
      "source": [
        "#05:triangle_perimeter\n",
        "\n",
        "def calculate_triangle_perimeter(side1, side2, side3):\n",
        "    return side1 + side2 + side3\n",
        "\n",
        "# Taking user input\n",
        "s1 = float(input(\"What is the length of side 1? \"))\n",
        "s2 = float(input(\"What is the length of side 2? \"))\n",
        "s3 = float(input(\"What is the length of side 3? \"))\n",
        "\n",
        "# Calculating and displaying the perimeter\n",
        "perimeter = calculate_triangle_perimeter(s1, s2, s3)\n",
        "print(f\"The perimeter of the triangle is {perimeter}\")\n",
        "\n",
        "if __name__ == '__main__':\n",
        "    # Corrected function call with arguments\n",
        "    calculate_triangle_perimeter(s1, s2, s3)\n"
      ],
      "metadata": {
        "colab": {
          "base_uri": "https://localhost:8080/"
        },
        "id": "0p_y7_tZpepy",
        "outputId": "8bd04aae-7fef-4fc0-8d73-e163610c97dd"
      },
      "execution_count": 2,
      "outputs": [
        {
          "output_type": "stream",
          "name": "stdout",
          "text": [
            "What is the length of side 1? 3\n",
            "What is the length of side 2? 3\n",
            "What is the length of side 3? 3\n",
            "The perimeter of the triangle is 9.0\n"
          ]
        }
      ]
    },
    {
      "cell_type": "code",
      "source": [
        "#06: square_number\n",
        "\n",
        "def square_number():\n",
        "    print(\"This program calculates the square of a given number.\")\n",
        "    num = int(input(\"Enter a number to find its square: \"))  # Removed unnecessary type hint\n",
        "    print(f\"The square of {num} is {num ** 2}\")\n",
        "\n",
        "# Ensure the function runs only when the script is executed directly\n",
        "if __name__ == '__main__':\n",
        "    square_number()\n"
      ],
      "metadata": {
        "colab": {
          "base_uri": "https://localhost:8080/"
        },
        "id": "xaDpDYJxp3OZ",
        "outputId": "87d539e8-4f1f-4666-e662-fa73c8eb439a"
      },
      "execution_count": 5,
      "outputs": [
        {
          "output_type": "stream",
          "name": "stdout",
          "text": [
            "This program calculates the square of a given number.\n",
            "Enter a number to find its square: 3\n",
            "The square of 3 is 9\n"
          ]
        }
      ]
    }
  ]
}