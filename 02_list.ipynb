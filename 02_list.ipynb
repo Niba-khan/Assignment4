{
  "nbformat": 4,
  "nbformat_minor": 0,
  "metadata": {
    "colab": {
      "provenance": [],
      "authorship_tag": "ABX9TyOAQvRepAyGUkD5tECYHZ0p",
      "include_colab_link": true
    },
    "kernelspec": {
      "name": "python3",
      "display_name": "Python 3"
    },
    "language_info": {
      "name": "python"
    }
  },
  "cells": [
    {
      "cell_type": "markdown",
      "metadata": {
        "id": "view-in-github",
        "colab_type": "text"
      },
      "source": [
        "<a href=\"https://colab.research.google.com/github/Niba-khan/Assignment4/blob/main/02_list.ipynb\" target=\"_parent\"><img src=\"https://colab.research.google.com/assets/colab-badge.svg\" alt=\"Open In Colab\"/></a>"
      ]
    },
    {
      "cell_type": "markdown",
      "source": [
        "# **02: List**"
      ],
      "metadata": {
        "id": "gXGsMO2Ak-Cf"
      }
    },
    {
      "cell_type": "code",
      "source": [
        "#01: add_many_number.\n",
        "\n",
        "def add_number(numbers) -> int:\n",
        "    \"\"\"Function to add all numbers in a list.\"\"\"\n",
        "    num = 0\n",
        "    for i in numbers:\n",
        "        num += i\n",
        "    return num\n",
        "\n",
        "def num():\n",
        "    \"\"\"Function to call add_number with a predefined list.\"\"\"\n",
        "    numbers: list[int] = [1, 2, 3, 4, 5]\n",
        "    sum_result = add_number(numbers)\n",
        "    print(sum_result)\n",
        "\n",
        "if __name__ == '__main__':\n",
        "    num()\n"
      ],
      "metadata": {
        "id": "xdRsEleylGoU",
        "colab": {
          "base_uri": "https://localhost:8080/"
        },
        "outputId": "86d0a446-62c9-429e-8c16-cfe5994101f7"
      },
      "execution_count": 4,
      "outputs": [
        {
          "output_type": "stream",
          "name": "stdout",
          "text": [
            "15\n"
          ]
        }
      ]
    },
    {
      "cell_type": "code",
      "source": [
        "#02: double_list\n",
        "\n",
        "def double_list():\n",
        "    \"\"\"Function to double the values of a list.\"\"\"\n",
        "    numbers: list[int] = [1, 2, 3, 4, 5]\n",
        "\n",
        "    for i in range(len(numbers)):\n",
        "        index = numbers[i]\n",
        "        numbers[i] = index * 2\n",
        "    print(numbers)\n",
        "\n",
        "if __name__ == '__main__':\n",
        "    double_list()\n"
      ],
      "metadata": {
        "id": "2uiAMyPjmY10",
        "colab": {
          "base_uri": "https://localhost:8080/"
        },
        "outputId": "8613a672-5867-46a7-b86c-5a3e3b24b29e"
      },
      "execution_count": 5,
      "outputs": [
        {
          "output_type": "stream",
          "name": "stdout",
          "text": [
            "[2, 4, 6, 8, 10]\n"
          ]
        }
      ]
    },
    {
      "cell_type": "code",
      "source": [
        "#04: flowing_with_data_structure\n",
        "\n",
        "def add_data(lst, data):\n",
        "    for i in range(3):\n",
        "        lst.append(data)\n",
        "\n",
        "def main():\n",
        "    message = input(\"Enter a message to copy: \")\n",
        "    lst = []\n",
        "    print(\"Before list:\", lst)\n",
        "    add_data(lst, message)\n",
        "    print(\"After list:\", lst)\n",
        "\n",
        "if __name__ == '__main__':\n",
        "    main()\n"
      ],
      "metadata": {
        "id": "vz6oYumGncFP",
        "colab": {
          "base_uri": "https://localhost:8080/"
        },
        "outputId": "710c8494-7d95-4e1a-e70c-80d252b5d5f6"
      },
      "execution_count": 8,
      "outputs": [
        {
          "output_type": "stream",
          "name": "stdout",
          "text": [
            "Enter a message to copy: 3\n",
            "Before list: []\n",
            "After list: ['3', '3', '3']\n"
          ]
        }
      ]
    },
    {
      "cell_type": "code",
      "source": [
        "#05: get_first_element\n",
        "\n",
        "def first_element(lst):\n",
        "    \"\"\"Prints the first element of the list\"\"\"\n",
        "    if lst:\n",
        "        print(\"First element:\", lst[0])\n",
        "    else:\n",
        "        print(\"The list is empty!\")\n",
        "\n",
        "def get_list():\n",
        "    \"\"\"Gets a list of elements from user input\"\"\"\n",
        "    lst = []\n",
        "\n",
        "    elem = input(\"Enter an element to add to the list (press Enter to stop): \")\n",
        "    while elem != \"\":\n",
        "        lst.append(elem)\n",
        "        elem = input(\"Enter an element to add to the list (press Enter to stop): \")\n",
        "\n",
        "    return lst\n",
        "\n",
        "def main():\n",
        "    lst = get_list()\n",
        "    first_element(lst)\n",
        "\n",
        "if __name__ == '__main__':\n",
        "    main()\n"
      ],
      "metadata": {
        "id": "v9q88x8qohW9",
        "colab": {
          "base_uri": "https://localhost:8080/"
        },
        "outputId": "537086c2-62f6-48a0-97a5-cbd5075273f3"
      },
      "execution_count": 10,
      "outputs": [
        {
          "output_type": "stream",
          "name": "stdout",
          "text": [
            "Enter an element to add to the list (press Enter to stop): 2\n",
            "Enter an element to add to the list (press Enter to stop): \n",
            "First element: 2\n"
          ]
        }
      ]
    },
    {
      "cell_type": "code",
      "source": [
        "#06_get_last_element\n",
        "\n",
        "def last_element(lst):\n",
        "    \"\"\"Prints the last element of the list if it's not empty\"\"\"\n",
        "    if lst:\n",
        "        print(\"Last element:\", lst[-1])\n",
        "    else:\n",
        "        print(\"The list is empty!\")\n",
        "\n",
        "def get_list():\n",
        "    \"\"\"Gets a list of elements from user input\"\"\"\n",
        "    lst = []\n",
        "\n",
        "    elem = input(\"Enter an element to add to the list (press Enter to stop): \")\n",
        "    while elem != \"\":\n",
        "        lst.append(elem)\n",
        "        elem = input(\"Enter an element to add to the list (press Enter to stop): \") 5\n",
        "\n",
        "    return lst\n",
        "\n",
        "def main():\n",
        "    lst = get_list()\n",
        "    last_element(lst)\n",
        "\n",
        "if __name__ == '__main__':\n",
        "    main()\n"
      ],
      "metadata": {
        "id": "3wsGwpUCrQSf",
        "colab": {
          "base_uri": "https://localhost:8080/"
        },
        "outputId": "8ddb229c-27e9-4caa-8f6f-6889f5a6cd46"
      },
      "execution_count": 12,
      "outputs": [
        {
          "output_type": "stream",
          "name": "stdout",
          "text": [
            "Enter an element to add to the list (press Enter to stop): 2\n",
            "Enter an element to add to the list (press Enter to stop): 3\n",
            "Enter an element to add to the list (press Enter to stop): 3\n",
            "Enter an element to add to the list (press Enter to stop): 4\n",
            "Enter an element to add to the list (press Enter to stop): \n",
            "Last element: 4\n"
          ]
        }
      ]
    },
    {
      "cell_type": "code",
      "source": [
        "#07: get_list\n",
        "\n",
        "def main():\n",
        "    \"\"\"Collects elements from user input and prints the final list\"\"\"\n",
        "    lst = []\n",
        "\n",
        "    value = input(\"Enter an element to add to the list (press Enter to stop): \")\n",
        "    while value:\n",
        "        lst.append(value)\n",
        "        value = input(\"Enter an element to add to the list (press Enter to stop): \")\n",
        "\n",
        "    print(\"Here's the final list:\", lst)  6\n",
        "\n",
        "if __name__ == '__main__':\n",
        "    main()\n"
      ],
      "metadata": {
        "id": "jxe25QxJr1fw",
        "colab": {
          "base_uri": "https://localhost:8080/"
        },
        "outputId": "82ace07a-b164-4eb7-c9ca-2646a6b1c3c0"
      },
      "execution_count": 15,
      "outputs": [
        {
          "output_type": "stream",
          "name": "stdout",
          "text": [
            "Enter an element to add to the list (press Enter to stop): 56\n",
            "Enter an element to add to the list (press Enter to stop): 6\n",
            "Enter an element to add to the list (press Enter to stop): 6\n",
            "Enter an element to add to the list (press Enter to stop): \n",
            "Here's the final list: ['56', '6', '6']\n"
          ]
        }
      ]
    },
    {
      "cell_type": "code",
      "source": [
        "#08_shorten\n",
        "\n",
        "MAX_LENGTH: int = 3\n",
        "\n",
        "def shorten(lst):\n",
        "    \"\"\"Removes and prints last elements until the list is shorter than MAX_LENGTH\"\"\"\n",
        "    while len(lst) >= MAX_LENGTH:\n",
        "        last_element = lst.pop()\n",
        "        print(f\"Removed element: {last_element}\")\n",
        "\n",
        "def get_lst():\n",
        "    \"\"\"Takes user input to create a list\"\"\"\n",
        "    lst = []\n",
        "\n",
        "    elem = input(\"Enter an element to add to the list (press Enter to stop): \")\n",
        "    while elem != \"\":\n",
        "        lst.append(elem)\n",
        "        elem = input(\"Enter an element to add to the list (press Enter to stop): \")\n",
        "\n",
        "    return lst\n",
        "\n",
        "def main():\n",
        "    \"\"\"Main function to collect user input and shorten list\"\"\"\n",
        "    lst = get_lst()\n",
        "    print(f\"Original list: {lst}\")\n",
        "\n",
        "    shorten(lst)  66\n",
        "\n",
        "    print(f\"Final list after shortening: {lst}\")\n",
        "\n",
        "if __name__ == '__main__':\n",
        "    main()\n",
        "\n"
      ],
      "metadata": {
        "id": "ggCiHt5tx22O",
        "colab": {
          "base_uri": "https://localhost:8080/"
        },
        "outputId": "16d944c8-fdde-4dd5-8ab4-320a541d7122"
      },
      "execution_count": 16,
      "outputs": [
        {
          "output_type": "stream",
          "name": "stdout",
          "text": [
            "Enter an element to add to the list (press Enter to stop): e\n",
            "Enter an element to add to the list (press Enter to stop): 5\n",
            "Enter an element to add to the list (press Enter to stop): \n",
            "Original list: ['e', '5']\n",
            "Final list after shortening: ['e', '5']\n"
          ]
        }
      ]
    }
  ]
}