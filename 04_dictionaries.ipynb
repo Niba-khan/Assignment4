{
  "nbformat": 4,
  "nbformat_minor": 0,
  "metadata": {
    "colab": {
      "provenance": [],
      "authorship_tag": "ABX9TyOKwqbWqw/FCdyAkeIhK5sV",
      "include_colab_link": true
    },
    "kernelspec": {
      "name": "python3",
      "display_name": "Python 3"
    },
    "language_info": {
      "name": "python"
    }
  },
  "cells": [
    {
      "cell_type": "markdown",
      "metadata": {
        "id": "view-in-github",
        "colab_type": "text"
      },
      "source": [
        "<a href=\"https://colab.research.google.com/github/Niba-khan/Assignment4/blob/main/04_dictionaries.ipynb\" target=\"_parent\"><img src=\"https://colab.research.google.com/assets/colab-badge.svg\" alt=\"Open In Colab\"/></a>"
      ]
    },
    {
      "cell_type": "markdown",
      "source": [
        "# **04_Dictionaries**"
      ],
      "metadata": {
        "id": "y6Luks8GFyfY"
      }
    },
    {
      "cell_type": "code",
      "source": [
        "#00: count_nums\n",
        "\n",
        "def count_numbers():\n",
        "    count_dict = {}\n",
        "\n",
        "    while True:\n",
        "        user_input = input(\"Enter a number (or 'Exit' to quit): \")\n",
        "\n",
        "        if user_input.lower() == \"exit\":\n",
        "            break\n",
        "        elif user_input.isdigit():\n",
        "            num = int(user_input)\n",
        "            count_dict[num] = count_dict.get(num, 0) + 1\n",
        "        else:\n",
        "            print(\"Invalid input. Enter a number or 'Exit'.\")\n",
        "\n",
        "    return count_dict\n",
        "\n",
        "def display_counts(count_dict):\n",
        "    print(\"\\nNumber Counts:\")\n",
        "    for key, value in count_dict.items():\n",
        "        print(f\"{key} appears {value} times\")\n",
        "\n",
        "if __name__ == '__main__':\n",
        "    counts = count_numbers()\n",
        "    display_counts(counts)\n",
        "\n"
      ],
      "metadata": {
        "id": "nKs8aaRQF4Yh",
        "colab": {
          "base_uri": "https://localhost:8080/"
        },
        "outputId": "98293a0a-c768-42ce-c44d-8c86b0253b71"
      },
      "execution_count": 3,
      "outputs": [
        {
          "output_type": "stream",
          "name": "stdout",
          "text": [
            "Enter a number (or 'Exit' to quit): 2\n",
            "Enter a number (or 'Exit' to quit): 4\n",
            "Enter a number (or 'Exit' to quit): quite\n",
            "Invalid input. Enter a number or 'Exit'.\n",
            "Enter a number (or 'Exit' to quit): 4\n",
            "Enter a number (or 'Exit' to quit): \n",
            "Invalid input. Enter a number or 'Exit'.\n",
            "Enter a number (or 'Exit' to quit): exit\n",
            "\n",
            "Number Counts:\n",
            "2 appears 1 times\n",
            "4 appears 2 times\n"
          ]
        }
      ]
    },
    {
      "cell_type": "code",
      "source": [
        "\n",
        "#01: phonebook\n",
        "\n",
        "def add_contact(phonebook):\n",
        "    name = input(\"Enter Contact Name: \")\n",
        "    number = input(\"Enter Contact Number: \")\n",
        "\n",
        "    if name in phonebook:\n",
        "        print(f\"{name} already exists in the phonebook.\")\n",
        "    elif number in phonebook.values():\n",
        "        print(f\"The number {number} is already saved under another contact.\")\n",
        "    else:\n",
        "        phonebook[name] = number\n",
        "        print(f\"{name} added successfully!\")\n",
        "\n",
        "def view_contacts(phonebook):\n",
        "    if not phonebook:\n",
        "        print(\"Phonebook is empty.\")\n",
        "    else:\n",
        "        print(\"\\n--- Contact List ---\")\n",
        "        for name, number in phonebook.items():\n",
        "            print(f\"{name}: {number}\")\n",
        "\n",
        "def delete_contact(phonebook):\n",
        "    name = input(\"Enter the contact name to delete: \")\n",
        "    if name in phonebook:\n",
        "        del phonebook[name]\n",
        "        print(f\"{name} deleted successfully!\")\n",
        "    else:\n",
        "        print(f\"{name} not found in the phonebook.\")\n",
        "\n",
        "def phonebook_menu():\n",
        "    phonebook = {}  # Empty dictionary to store contacts\n",
        "\n",
        "    while True:\n",
        "        print(\"\\n--- Phonebook Menu ---\")\n",
        "        print(\"1. Add Contact\")\n",
        "        print(\"2. View Contacts\")\n",
        "        print(\"3. Delete Contact\")\n",
        "        print(\"4. Exit\")\n",
        "\n",
        "        choice = input(\"Enter your choice (1-4): \")\n",
        "\n",
        "        if choice == \"1\":\n",
        "            add_contact(phonebook)\n",
        "        elif choice == \"2\":\n",
        "            view_contacts(phonebook)\n",
        "        elif choice == \"3\":\n",
        "            delete_contact(phonebook)\n",
        "        elif choice == \"4\":\n",
        "            print(\"Exiting Phonebook. Goodbye!\")\n",
        "            break\n",
        "        else:\n",
        "            print(\"Invalid choice! Please enter a number between 1 and 4.\")\n",
        "\n",
        "# Run the phonebook\n",
        "phonebook_menu()\n"
      ],
      "metadata": {
        "id": "QpOV5-W8JR3V",
        "colab": {
          "base_uri": "https://localhost:8080/"
        },
        "outputId": "ef8ced4b-b328-453c-a4c3-6d595ea1bd72"
      },
      "execution_count": 2,
      "outputs": [
        {
          "output_type": "stream",
          "name": "stdout",
          "text": [
            "\n",
            "--- Phonebook Menu ---\n",
            "1. Add Contact\n",
            "2. View Contacts\n",
            "3. Delete Contact\n",
            "4. Exit\n",
            "Enter your choice (1-4): 3\n",
            "Enter the contact name to delete: 3\n",
            "3 not found in the phonebook.\n",
            "\n",
            "--- Phonebook Menu ---\n",
            "1. Add Contact\n",
            "2. View Contacts\n",
            "3. Delete Contact\n",
            "4. Exit\n",
            "Enter your choice (1-4): 3\n",
            "Enter the contact name to delete: 3\n",
            "3 not found in the phonebook.\n",
            "\n",
            "--- Phonebook Menu ---\n",
            "1. Add Contact\n",
            "2. View Contacts\n",
            "3. Delete Contact\n",
            "4. Exit\n",
            "Enter your choice (1-4): 3\n",
            "Enter the contact name to delete: 2\n",
            "2 not found in the phonebook.\n",
            "\n",
            "--- Phonebook Menu ---\n",
            "1. Add Contact\n",
            "2. View Contacts\n",
            "3. Delete Contact\n",
            "4. Exit\n",
            "Enter your choice (1-4): 2\n",
            "Phonebook is empty.\n",
            "\n",
            "--- Phonebook Menu ---\n",
            "1. Add Contact\n",
            "2. View Contacts\n",
            "3. Delete Contact\n",
            "4. Exit\n",
            "Enter your choice (1-4): 2\n",
            "Phonebook is empty.\n",
            "\n",
            "--- Phonebook Menu ---\n",
            "1. Add Contact\n",
            "2. View Contacts\n",
            "3. Delete Contact\n",
            "4. Exit\n",
            "Enter your choice (1-4): 3\n",
            "Enter the contact name to delete: \n",
            " not found in the phonebook.\n",
            "\n",
            "--- Phonebook Menu ---\n",
            "1. Add Contact\n",
            "2. View Contacts\n",
            "3. Delete Contact\n",
            "4. Exit\n",
            "Enter your choice (1-4): \n",
            "Invalid choice! Please enter a number between 1 and 4.\n",
            "\n",
            "--- Phonebook Menu ---\n",
            "1. Add Contact\n",
            "2. View Contacts\n",
            "3. Delete Contact\n",
            "4. Exit\n",
            "Enter your choice (1-4): \n",
            "Invalid choice! Please enter a number between 1 and 4.\n",
            "\n",
            "--- Phonebook Menu ---\n",
            "1. Add Contact\n",
            "2. View Contacts\n",
            "3. Delete Contact\n",
            "4. Exit\n",
            "Enter your choice (1-4): 4\n",
            "Exiting Phonebook. Goodbye!\n"
          ]
        }
      ]
    },
    {
      "cell_type": "code",
      "source": [
        "#02: pop_up_shop.\n",
        "\n",
        "def calculate_total_cost():\n",
        "    fruit_prices = {\n",
        "        \"apple\": 5.0,\n",
        "        \"durian\": 15.0,\n",
        "        \"jackfruit\": 12.5,\n",
        "        \"kiwi\": 8.0,\n",
        "        \"rambutan\": 6.0,\n",
        "        \"mango\": 10.0\n",
        "    }\n",
        "\n",
        "    total_cost = 0\n",
        "\n",
        "    for fruit, price in fruit_prices.items():\n",
        "        while True:\n",
        "            try:\n",
        "                quantity = int(input(f\"How many ({fruit}) do you want?: \"))\n",
        "                if quantity < 0:\n",
        "                    print(\"Invalid input. Please enter a non-negative number.\")\n",
        "                else:\n",
        "                    total_cost += quantity * price\n",
        "                    break\n",
        "            except ValueError:\n",
        "                print(\"Invalid input. Please enter a valid integer.\")\n",
        "\n",
        "    print(f\"\\nYour total is ${total_cost:.2f}\")\n",
        "\n",
        "if __name__ == \"__main__\":\n",
        "    calculate_total_cost()\n",
        "\n"
      ],
      "metadata": {
        "id": "Be2ijA-ZxPz-",
        "colab": {
          "base_uri": "https://localhost:8080/"
        },
        "outputId": "df44c5c1-8f73-4bab-ed7e-725e83a6ebe2"
      },
      "execution_count": 7,
      "outputs": [
        {
          "output_type": "stream",
          "name": "stdout",
          "text": [
            "How many (apple) do you want?: 4\n",
            "How many (durian) do you want?: 6\n",
            "How many (jackfruit) do you want?: 8\n",
            "How many (kiwi) do you want?: 8\n",
            "How many (rambutan) do you want?: 8\n",
            "How many (mango) do you want?: 8\n",
            "\n",
            "Your total is $402.00\n"
          ]
        }
      ]
    },
    {
      "cell_type": "code",
      "source": [
        "#03: 03_powerful_passwords\n",
        "\n",
        "import hashlib\n",
        "\n",
        "def hash_password(password):\n",
        "    # Correct hash function\n",
        "    return hashlib.sha256(password.encode()).hexdigest()\n",
        "\n",
        "# Simulated stored login data (hashed passwords)\n",
        "stored_logins = {\n",
        "    \"khan@gmail.com\": hash_password(\"mypassword123\"),\n",
        "    \"zai@gmail.com\": hash_password(\"khan2333\"),\n",
        "    \"Nkz@gmial.com\": hash_password(\"nyjjxnsj3344\"),\n",
        "}\n",
        "\n",
        "def login(email, password_to_check):\n",
        "    hashed_password = hash_password(password_to_check)\n",
        "    return stored_logins.get(email) == hashed_password\n",
        "\n",
        "# Example Usage:\n",
        "email = input(\"Enter your email: \")\n",
        "password = input(\"Enter your password: \")\n",
        "\n",
        "if login(email, password):\n",
        "    print(\"Login successful!\")\n",
        "else:\n",
        "    print(\"Invalid email or password.\")\n"
      ],
      "metadata": {
        "id": "YZ2aJtSoyL6W",
        "colab": {
          "base_uri": "https://localhost:8080/"
        },
        "outputId": "17dcb72d-a303-443b-9748-fa3c23eedde6"
      },
      "execution_count": 9,
      "outputs": [
        {
          "output_type": "stream",
          "name": "stdout",
          "text": [
            "Enter your email: zai@gmail.com\n",
            "Enter your password: khan12\n",
            "Invalid email or password.\n"
          ]
        }
      ]
    }
  ]
}