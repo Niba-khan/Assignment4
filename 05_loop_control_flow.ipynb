{
  "nbformat": 4,
  "nbformat_minor": 0,
  "metadata": {
    "colab": {
      "provenance": [],
      "authorship_tag": "ABX9TyMi7ORcBt+ntSL+jl5D2Vp+",
      "include_colab_link": true
    },
    "kernelspec": {
      "name": "python3",
      "display_name": "Python 3"
    },
    "language_info": {
      "name": "python"
    }
  },
  "cells": [
    {
      "cell_type": "markdown",
      "metadata": {
        "id": "view-in-github",
        "colab_type": "text"
      },
      "source": [
        "<a href=\"https://colab.research.google.com/github/Niba-khan/Assignment4/blob/main/05_loop_control_flow.ipynb\" target=\"_parent\"><img src=\"https://colab.research.google.com/assets/colab-badge.svg\" alt=\"Open In Colab\"/></a>"
      ]
    },
    {
      "cell_type": "markdown",
      "source": [
        "# **05_loops_control_flow**"
      ],
      "metadata": {
        "id": "lRvsqf7oy_A3"
      }
    },
    {
      "cell_type": "code",
      "source": [
        "#00: guess_my_number\n",
        "\n",
        "import random\n",
        "\n",
        "def main():\n",
        "    secret_number = random.randint(1, 100)\n",
        "    print(\"I am thinking of a number between 1 and 100.\")\n",
        "    print(\"Type 'exit' to quit anytime.\\n\")\n",
        "\n",
        "    while True:\n",
        "        guess_input = input(\"Enter a guess number: \")\n",
        "\n",
        "        if guess_input.lower() == 'exit':\n",
        "            print(\"You exited the game. Goodbye!\")\n",
        "            break\n",
        "\n",
        "        if not guess_input.isdigit():\n",
        "            print(\"Invalid input. Please enter a number or type 'exit'.\")\n",
        "            continue\n",
        "\n",
        "        guess_num = int(guess_input)\n",
        "\n",
        "        if guess_num < secret_number:\n",
        "            print(\"Your guess is too low.\\n\")\n",
        "        elif guess_num > secret_number:\n",
        "            print(\"Your guess is too high.\\n\")\n",
        "        else:\n",
        "            print(f\"🎉 Congratulations! The number was {secret_number}.\")\n",
        "            break\n",
        "\n",
        "if __name__ == '__main__':\n",
        "    main()\n"
      ],
      "metadata": {
        "id": "4jRl-5cJzDD1",
        "colab": {
          "base_uri": "https://localhost:8080/"
        },
        "outputId": "15ffbf62-85fa-43f8-da9e-62f659953431"
      },
      "execution_count": 6,
      "outputs": [
        {
          "output_type": "stream",
          "name": "stdout",
          "text": [
            "I am thinking of a number between 1 and 100.\n",
            "Type 'exit' to quit anytime.\n",
            "\n",
            "Enter a guess number: 55\n",
            "Your guess is too high.\n",
            "\n",
            "Enter a guess number: 22\n",
            "Your guess is too low.\n",
            "\n",
            "Enter a guess number: 22\n",
            "Your guess is too low.\n",
            "\n",
            "Enter a guess number: exit\n",
            "You exited the game. Goodbye!\n"
          ]
        }
      ]
    },
    {
      "cell_type": "code",
      "source": [
        "#01: fibonacci\n",
        "\n",
        "max_value = 10000\n",
        "\n",
        "def main():\n",
        "    a, b = 0, 1\n",
        "    print(a, b, end=\" \")  # Corrected 'and' to 'end'\n",
        "\n",
        "    while True:\n",
        "        c = a + b\n",
        "        if c >= max_value:\n",
        "            break\n",
        "        print(c, end=\" \")  # Corrected indentation and keyword\n",
        "        a, b = b, c\n",
        "\n",
        "if __name__ == '__main__':\n",
        "    main()\n"
      ],
      "metadata": {
        "id": "xycBQ44H4oF7",
        "colab": {
          "base_uri": "https://localhost:8080/"
        },
        "outputId": "1a1c5ed1-0650-4e16-e47b-80571c18332c"
      },
      "execution_count": 7,
      "outputs": [
        {
          "output_type": "stream",
          "name": "stdout",
          "text": [
            "0 1 1 2 3 5 8 13 21 34 55 89 144 233 377 610 987 1597 2584 4181 6765 "
          ]
        }
      ]
    },
    {
      "cell_type": "code",
      "source": [
        "#02: print_events\n",
        "\n",
        "def main():\n",
        "    for i in range(40):\n",
        "        print(1 * 2)\n",
        "\n",
        "if __name__ == '__main__':\n",
        "    main()\n"
      ],
      "metadata": {
        "id": "LStGFm9Z73Eh",
        "colab": {
          "base_uri": "https://localhost:8080/"
        },
        "outputId": "72cd34ae-1fe7-4b28-e29e-78de974be671"
      },
      "execution_count": 10,
      "outputs": [
        {
          "output_type": "stream",
          "name": "stdout",
          "text": [
            "2\n",
            "2\n",
            "2\n",
            "2\n",
            "2\n",
            "2\n",
            "2\n",
            "2\n",
            "2\n",
            "2\n",
            "2\n",
            "2\n",
            "2\n",
            "2\n",
            "2\n",
            "2\n",
            "2\n",
            "2\n",
            "2\n",
            "2\n",
            "2\n",
            "2\n",
            "2\n",
            "2\n",
            "2\n",
            "2\n",
            "2\n",
            "2\n",
            "2\n",
            "2\n",
            "2\n",
            "2\n",
            "2\n",
            "2\n",
            "2\n",
            "2\n",
            "2\n",
            "2\n",
            "2\n",
            "2\n"
          ]
        }
      ]
    },
    {
      "cell_type": "code",
      "source": [
        "#03: wholesome_machine\n",
        "\n",
        "correct_affirmation = \"I am capable of doing anything. I put my mind too.\"\n",
        "\n",
        "def main():\n",
        "    print(\"Welcome to the Wholesome Machine\")\n",
        "    while True:\n",
        "        user_input = input(\"Please type the following affirmation:\\n\" + correct_affirmation + \"\\n> \")\n",
        "        if user_input == correct_affirmation:\n",
        "            print(\"That's right!\")\n",
        "            break\n",
        "        else:\n",
        "            print(\"That was not affirmative. Please try again!\")\n",
        "\n",
        "if __name__ == '__main__':\n",
        "    main()\n"
      ],
      "metadata": {
        "colab": {
          "base_uri": "https://localhost:8080/"
        },
        "id": "nJqszdrKSaLG",
        "outputId": "9112236d-016b-4103-db49-5c21be829e52"
      },
      "execution_count": 14,
      "outputs": [
        {
          "output_type": "stream",
          "name": "stdout",
          "text": [
            "Welcome to the Wholesome Machine\n",
            "Please type the following affirmation:\n",
            "I am capable of doing anything. I put my mind too.\n",
            "> I am capable of doing anything. I put my mind too.\n",
            "That's right!\n"
          ]
        }
      ]
    },
    {
      "cell_type": "code",
      "source": [
        "#04: liftoff\n",
        "\n",
        "def main():\n",
        "    for i in range(10, 0, -1):  # Countdown from 10 to 1\n",
        "        print(i, end=\" \")\n",
        "    print(\"Liftoff!\")\n",
        "\n",
        "if __name__ == '__main__':\n",
        "    main()\n"
      ],
      "metadata": {
        "colab": {
          "base_uri": "https://localhost:8080/"
        },
        "id": "8FU6ZAIRaxtD",
        "outputId": "4cc72401-9376-40f5-baca-5ce7949067b6"
      },
      "execution_count": 15,
      "outputs": [
        {
          "output_type": "stream",
          "name": "stdout",
          "text": [
            "10 9 8 7 6 5 4 3 2 1 Liftoff!\n"
          ]
        }
      ]
    },
    {
      "cell_type": "code",
      "source": [
        "#06: double_it\n",
        "\n",
        "def main():\n",
        "    curr_value = int(input(\"Enter a number: \"))\n",
        "    while curr_value < 100:\n",
        "        curr_value = curr_value * 2\n",
        "        print(curr_value, end=\" \")\n",
        "\n",
        "if __name__ == '__main__':\n",
        "    main()\n"
      ],
      "metadata": {
        "colab": {
          "base_uri": "https://localhost:8080/"
        },
        "id": "lPo3iJn9bPbP",
        "outputId": "9f634410-1dae-474c-8174-c1dc9ab1bc29"
      },
      "execution_count": 16,
      "outputs": [
        {
          "output_type": "stream",
          "name": "stdout",
          "text": [
            "Enter a number: 2\n",
            "4 8 16 32 64 128 "
          ]
        }
      ]
    }
  ]
}