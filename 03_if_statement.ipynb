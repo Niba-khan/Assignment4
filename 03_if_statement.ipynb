{
  "nbformat": 4,
  "nbformat_minor": 0,
  "metadata": {
    "colab": {
      "provenance": [],
      "authorship_tag": "ABX9TyMNnhTvy1FPMjqhPy5e5NDK",
      "include_colab_link": true
    },
    "kernelspec": {
      "name": "python3",
      "display_name": "Python 3"
    },
    "language_info": {
      "name": "python"
    }
  },
  "cells": [
    {
      "cell_type": "markdown",
      "metadata": {
        "id": "view-in-github",
        "colab_type": "text"
      },
      "source": [
        "<a href=\"https://colab.research.google.com/github/Niba-khan/Assignment4/blob/main/03_if_statement.ipynb\" target=\"_parent\"><img src=\"https://colab.research.google.com/assets/colab-badge.svg\" alt=\"Open In Colab\"/></a>"
      ]
    },
    {
      "cell_type": "markdown",
      "source": [
        "# **03: if_staement**"
      ],
      "metadata": {
        "id": "MAlwCETu_P5W"
      }
    },
    {
      "cell_type": "code",
      "source": [
        "#01: print_event\n",
        "\n",
        "def even():\n",
        "    print(\"First 20 even numbers:\")\n",
        "    count = 0\n",
        "    number = 2\n",
        "    while count < 20:\n",
        "        print(number)\n",
        "        number += 2\n",
        "        count += 1\n",
        "\n",
        "if __name__ == '__main__':\n",
        "    even()\n"
      ],
      "metadata": {
        "id": "_eIOiZ-F_Vy2",
        "colab": {
          "base_uri": "https://localhost:8080/"
        },
        "outputId": "50c08bc7-30ee-47d1-adbb-274af5d84e99"
      },
      "execution_count": 3,
      "outputs": [
        {
          "output_type": "stream",
          "name": "stdout",
          "text": [
            "First 20 even numbers:\n",
            "2\n",
            "4\n",
            "6\n",
            "8\n",
            "10\n",
            "12\n",
            "14\n",
            "16\n",
            "18\n",
            "20\n",
            "22\n",
            "24\n",
            "26\n",
            "28\n",
            "30\n",
            "32\n",
            "34\n",
            "36\n",
            "38\n",
            "40\n"
          ]
        }
      ]
    },
    {
      "cell_type": "code",
      "source": [
        "#02: print_international_voting_Age\n",
        "\n",
        "patuorksbuoipo: int = 16\n",
        "stanlau: int = 25\n",
        "mayengua: int = 48\n",
        "\n",
        "def main():\n",
        "    age: int = int(input(\"How old are you? \"))\n",
        "\n",
        "    if age >= patuorksbuoipo:\n",
        "        print(f\"Your age is {age}, you are eligible to vote in Patuorksbuoipo.\")\n",
        "    else:\n",
        "        print(f\"Your age is {age}, you are not eligible to vote in Patuorksbuoipo.\")\n",
        "\n",
        "    if age >= stanlau:\n",
        "        print(f\"Your age is {age}, you are eligible to vote in Stanlau.\")\n",
        "    else:\n",
        "        print(f\"Your age is {age}, you are not eligible to vote in Stanlau.\")\n",
        "\n",
        "    if age >= mayengua:\n",
        "        print(f\"Your age is {age}, you are eligible to vote in Mayengua.\")\n",
        "    else:\n",
        "        print(f\"Your age is {age}, you are not eligible to vote in Mayengua.\")\n",
        "\n",
        "if __name__ == '__main__':\n",
        "    main()\n"
      ],
      "metadata": {
        "id": "NrX-uCTdAGSx",
        "colab": {
          "base_uri": "https://localhost:8080/"
        },
        "outputId": "2a512272-5e23-4a9b-bd9f-56694d7710c5"
      },
      "execution_count": 4,
      "outputs": [
        {
          "output_type": "stream",
          "name": "stdout",
          "text": [
            "How old are you? 19\n",
            "Your age is 19, you are eligible to vote in Patuorksbuoipo.\n",
            "Your age is 19, you are not eligible to vote in Stanlau.\n",
            "Your age is 19, you are not eligible to vote in Mayengua.\n"
          ]
        }
      ]
    },
    {
      "cell_type": "code",
      "source": [
        "#03: leap_year\n",
        "\n",
        "def leap_year():\n",
        "    year: int = int(input(\"Enter a year: \"))\n",
        "\n",
        "    if year % 4 == 0:\n",
        "        if year % 100 == 0:\n",
        "            if year % 400 == 0:\n",
        "                print(f\"{year} is a leap year.\")\n",
        "            else:\n",
        "                print(f\"{year} is not a leap year.\")\n",
        "        else:\n",
        "            print(f\"{year} is a leap year.\")\n",
        "    else:\n",
        "        print(f\"{year} is not a leap year.\")\n",
        "\n",
        "if __name__ == '__main__':\n",
        "    leap_year()\n"
      ],
      "metadata": {
        "id": "ljP18W39CEi_",
        "colab": {
          "base_uri": "https://localhost:8080/"
        },
        "outputId": "84333824-b541-4d44-b3d0-f1ea6d6745d1"
      },
      "execution_count": 5,
      "outputs": [
        {
          "output_type": "stream",
          "name": "stdout",
          "text": [
            "Enter a year: 6\n",
            "6 is not a leap year.\n"
          ]
        }
      ]
    },
    {
      "cell_type": "code",
      "source": [
        "#04: tall_enough_to_ride\n",
        "\n",
        "min_height: int = 50\n",
        "\n",
        "def main():\n",
        "    user: int = int(input(\"How tall are you? \"))\n",
        "\n",
        "    if user >= min_height:\n",
        "        print(\"You are tall enough to ride.\")\n",
        "    else:\n",
        "        print(\"You are not tall enough to ride. Maybe next year.\")\n",
        "\n",
        "if __name__ == '__main__':\n",
        "    main()\n"
      ],
      "metadata": {
        "id": "XAyzn9cRDQiJ",
        "colab": {
          "base_uri": "https://localhost:8080/"
        },
        "outputId": "742ec05c-6d19-4f7d-ba9a-b814ff0edf8a"
      },
      "execution_count": 6,
      "outputs": [
        {
          "output_type": "stream",
          "name": "stdout",
          "text": [
            "How tall are you? 6\n",
            "You are not tall enough to ride. Maybe next year.\n"
          ]
        }
      ]
    },
    {
      "cell_type": "code",
      "source": [
        "#05:random_numbers\n",
        "\n",
        "import random\n",
        "\n",
        "def main():\n",
        "    for i in range(10):\n",
        "        num: int = random.randint(1, 100)\n",
        "        print(num)\n",
        "\n",
        "if __name__ == '__main__':\n",
        "    main()\n"
      ],
      "metadata": {
        "id": "DQ9aHCblEmnQ",
        "colab": {
          "base_uri": "https://localhost:8080/"
        },
        "outputId": "0aa6d477-091a-476d-871e-49cc7d6468b3"
      },
      "execution_count": 7,
      "outputs": [
        {
          "output_type": "stream",
          "name": "stdout",
          "text": [
            "44\n",
            "78\n",
            "41\n",
            "46\n",
            "55\n",
            "52\n",
            "57\n",
            "2\n",
            "71\n",
            "25\n"
          ]
        }
      ]
    }
  ]
}