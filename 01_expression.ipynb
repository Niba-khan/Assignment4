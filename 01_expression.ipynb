{
  "nbformat": 4,
  "nbformat_minor": 0,
  "metadata": {
    "colab": {
      "provenance": [],
      "authorship_tag": "ABX9TyPGD711yZPXbyKJ62M4ZNsh",
      "include_colab_link": true
    },
    "kernelspec": {
      "name": "python3",
      "display_name": "Python 3"
    },
    "language_info": {
      "name": "python"
    }
  },
  "cells": [
    {
      "cell_type": "markdown",
      "metadata": {
        "id": "view-in-github",
        "colab_type": "text"
      },
      "source": [
        "<a href=\"https://colab.research.google.com/github/Niba-khan/Assignment4/blob/main/01_expression.ipynb\" target=\"_parent\"><img src=\"https://colab.research.google.com/assets/colab-badge.svg\" alt=\"Open In Colab\"/></a>"
      ]
    },
    {
      "cell_type": "markdown",
      "source": [
        "# **01_Expression**"
      ],
      "metadata": {
        "id": "LPWb8NW-ual2"
      }
    },
    {
      "cell_type": "code",
      "source": [
        "#01_dicesimulator\n",
        "\n",
        "import random\n",
        "\n",
        "def roll_dice():\n",
        "    \"\"\"Simulates rolling two dice and prints their total.\"\"\"\n",
        "    die1: int = random.randint(1, 6)\n",
        "    die2: int = random.randint(1, 6)\n",
        "    total: int = die1 + die2\n",
        "    print(f\"Total of two dice: {total}\")\n",
        "\n",
        "def main():\n",
        "    \"\"\"Main function to demonstrate variable scope and dice rolling.\"\"\"\n",
        "    die1: int = 10\n",
        "    print(\"die1 in main() starts as: \" + str(die1))\n",
        "\n",
        "    roll_dice()\n",
        "    roll_dice()\n",
        "    roll_dice()\n",
        "\n",
        "    print(\"die1 in main() is: \" + str(die1))\n",
        "\n",
        "if __name__ == '__main__':\n",
        "    main()\n",
        "\n"
      ],
      "metadata": {
        "colab": {
          "base_uri": "https://localhost:8080/"
        },
        "id": "u1pqd8TkuoTe",
        "outputId": "5e0abed5-b2e6-4fce-bed8-20889adad3d6"
      },
      "execution_count": 4,
      "outputs": [
        {
          "output_type": "stream",
          "name": "stdout",
          "text": [
            "die1 in main() starts as: 10\n",
            "Total of two dice: 5\n",
            "Total of two dice: 2\n",
            "Total of two dice: 10\n",
            "die1 in main() is: 10\n"
          ]
        }
      ]
    },
    {
      "cell_type": "code",
      "source": [
        "#02:e=mc2\n",
        "\n",
        "def energy():\n",
        "    \"\"\"Calculates energy using Einstein's equation E = mc^2\"\"\"\n",
        "\n",
        "    c: int = 299792458  # Speed of light in meters per second\n",
        "    m: float = float(input(\"Enter mass in kilograms: \"))  # Taking mass input from user\n",
        "\n",
        "    energy_in_joules = m * (c ** 2)  # E = mc^2 calculation\n",
        "\n",
        "    print(\"\\nEinstein's Energy Equation: E = mc²\")\n",
        "    print(f\"Mass (m) = {m} kg\")\n",
        "    print(f\"Speed of light (c) = {c} m/s\")\n",
        "    print(f\"Energy (E) = {energy_in_joules} joules\")\n",
        "\n",
        "# Ensuring the script runs only when executed directly\n",
        "if __name__ == '__main__':\n",
        "    energy()\n"
      ],
      "metadata": {
        "colab": {
          "base_uri": "https://localhost:8080/"
        },
        "id": "BwTKTI3l56iB",
        "outputId": "1c475c4c-e042-4ee6-cbb2-1cd4489b5847"
      },
      "execution_count": 6,
      "outputs": [
        {
          "output_type": "stream",
          "name": "stdout",
          "text": [
            "Enter mass in kilograms: 450\n",
            "\n",
            "Einstein's Energy Equation: E = mc²\n",
            "Mass (m) = 450.0 kg\n",
            "Speed of light (c) = 299792458 m/s\n",
            "Energy (E) = 4.0443983043156795e+19 joules\n"
          ]
        }
      ]
    },
    {
      "cell_type": "code",
      "source": [
        "#03:feet_to_inches\n",
        "\n",
        "inch: int = 12  # 1 foot = 12 inches\n",
        "\n",
        "def foot():\n",
        "    \"\"\"Converts feet to inches.\"\"\"\n",
        "    feet: int = int(input(\"Enter the length in feet, and I will convert it to inches: \"))\n",
        "    inches = feet * inch  # Correct conversion formula\n",
        "    print(f\"There are {inches} inches in {feet} feet.\")\n",
        "\n",
        "if __name__ == '__main__':\n",
        "    foot()\n"
      ],
      "metadata": {
        "colab": {
          "base_uri": "https://localhost:8080/"
        },
        "id": "IUrN381z8CWl",
        "outputId": "7ed8606b-cf5b-4478-f05d-8b1f47dd0b1c"
      },
      "execution_count": 9,
      "outputs": [
        {
          "output_type": "stream",
          "name": "stdout",
          "text": [
            "Enter the length in feet, and I will convert it to inches: 12\n",
            "There are 144 inches in 12 feet.\n"
          ]
        }
      ]
    },
    {
      "cell_type": "code",
      "source": [
        "#04: pythagorean_theorem\n",
        "import math\n",
        "\n",
        "def pythagorean_theorem():\n",
        "    \"\"\"Calculates the hypotenuse using the Pythagorean theorem.\"\"\"\n",
        "    ab = float(input(\"Enter the length of AB: \"))\n",
        "    ac = float(input(\"Enter the length of AC: \"))\n",
        "\n",
        "    bc = math.sqrt(ab**2 + ac**2)\n",
        "    print(f\"The length of BC (the hypotenuse) is: {bc}\")\n",
        "\n",
        "if __name__ == '__main__':\n",
        "    pythagorean_theorem()\n"
      ],
      "metadata": {
        "colab": {
          "base_uri": "https://localhost:8080/"
        },
        "id": "2aDGRm-cCO7a",
        "outputId": "6ebc3365-818c-42de-ce81-9971cafabded"
      },
      "execution_count": 13,
      "outputs": [
        {
          "output_type": "stream",
          "name": "stdout",
          "text": [
            "Enter the length of AB: 78\n",
            "Enter the length of AC: 6\n",
            "The length of BC (the hypotenuse) is: 78.23042886243178\n"
          ]
        }
      ]
    },
    {
      "cell_type": "code",
      "source": [
        "#05: remainder_division\n",
        "def reminder():\n",
        "    \"\"\"Calculates quotient and remainder of a division.\"\"\"\n",
        "    num1: int = int(input(\"Enter an integer to be divided: \"))\n",
        "    num2: int = int(input(\"Enter an integer to divide by: \"))\n",
        "\n",
        "    quotient: int = num1 // num2\n",
        "    remainder: int = num1 % num2\n",
        "\n",
        "    print(f\"The result of this division is {quotient} with a remainder of {remainder}\")\n",
        "\n",
        "\n",
        "if __name__ == '__main__':\n",
        "    reminder()\n"
      ],
      "metadata": {
        "colab": {
          "base_uri": "https://localhost:8080/"
        },
        "id": "333VjZ2IEzHl",
        "outputId": "930fb930-4caa-4a58-c4ef-1b64c834c819"
      },
      "execution_count": 10,
      "outputs": [
        {
          "output_type": "stream",
          "name": "stdout",
          "text": [
            "Enter an integer to be divided: 68\n",
            "Enter an integer to divide by: 78\n",
            "The result of this division is 0 with a remainder of 68\n"
          ]
        }
      ]
    },
    {
      "cell_type": "code",
      "source": [
        "#06:rolldice\n",
        "\n",
        "import random\n",
        "\n",
        "def dice():\n",
        "    \"\"\"Simulates rolling two dice and prints the results.\"\"\"\n",
        "    die1: int = random.randint(1, 6)\n",
        "    die2: int = random.randint(1, 6)\n",
        "    total: int = die1 + die2\n",
        "\n",
        "    print(\"First Die:\", die1)\n",
        "    print(\"Second Die:\", die2)\n",
        "    print(f\"Total of two dice: {total}\")\n",
        "\n",
        "if __name__ == '__main__':\n",
        "    dice()\n"
      ],
      "metadata": {
        "colab": {
          "base_uri": "https://localhost:8080/"
        },
        "id": "kewwvyDRGXLs",
        "outputId": "7d8230d6-6af7-40af-d8af-e6dafd9e2b09"
      },
      "execution_count": 8,
      "outputs": [
        {
          "output_type": "stream",
          "name": "stdout",
          "text": [
            "First Die: 2\n",
            "Second Die: 6\n",
            "Total of two dice: 8\n"
          ]
        }
      ]
    },
    {
      "cell_type": "code",
      "source": [
        "#06: seconds_in_year\n",
        "\n",
        "days_in_year: int = 365\n",
        "hours_per_day: int = 24\n",
        "minutes_per_hour: int = 60\n",
        "seconds_per_minute: int = 60\n",
        "\n",
        "def seconds():\n",
        "    \"\"\"Calculates and prints the number of seconds in a year.\"\"\"\n",
        "    total_seconds = days_in_year * hours_per_day * minutes_per_hour * seconds_per_minute\n",
        "    print(f\"There are {total_seconds} seconds in a year.\")\n",
        "\n",
        "if __name__ == '__main__':\n",
        "    seconds()\n"
      ],
      "metadata": {
        "colab": {
          "base_uri": "https://localhost:8080/"
        },
        "id": "G06AZJsyIAic",
        "outputId": "0c48e1e4-67fb-41a5-aeec-6a827000c037"
      },
      "execution_count": 4,
      "outputs": [
        {
          "output_type": "stream",
          "name": "stdout",
          "text": [
            "There are 31536000 seconds in a year.\n"
          ]
        }
      ]
    },
    {
      "cell_type": "code",
      "source": [
        "#07:tiny_mad_lib\n",
        "\n",
        " def mad_lib():\n",
        "    \"\"\"Creates a simple mad lib sentence using user input.\"\"\"\n",
        "    noun: str = input(\"Enter a noun: \")\n",
        "    adjective: str = input(\"Enter an adjective: \")\n",
        "    verb: str = input(\"Enter a verb: \")\n",
        "\n",
        "    print(f\"Do you {verb} your {adjective} {noun}?\")\n",
        "\n",
        "if __name__ == '__main__':\n",
        "    mad_lib()\n"
      ],
      "metadata": {
        "colab": {
          "base_uri": "https://localhost:8080/"
        },
        "id": "82rrEDCWJB7V",
        "outputId": "36ddd55a-3f3c-46d1-c110-d78bd250159c"
      },
      "execution_count": 2,
      "outputs": [
        {
          "output_type": "stream",
          "name": "stdout",
          "text": [
            "Enter a noun: hqsjkjwqnsyqlnxws\n",
            "Enter an adjective: sxkwhnkejd\n",
            "Enter a verb: xshxjkwnx\n",
            "Do you xshxjkwnx your sxkwhnkejd hqsjkjwqnsyqlnxws?\n"
          ]
        }
      ]
    }
  ]
}