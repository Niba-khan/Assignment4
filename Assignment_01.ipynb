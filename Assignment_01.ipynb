{
  "nbformat": 4,
  "nbformat_minor": 0,
  "metadata": {
    "colab": {
      "provenance": [],
      "authorship_tag": "ABX9TyPMZwxis6KYcXu1K2PFDELM",
      "include_colab_link": true
    },
    "kernelspec": {
      "name": "python3",
      "display_name": "Python 3"
    },
    "language_info": {
      "name": "python"
    }
  },
  "cells": [
    {
      "cell_type": "markdown",
      "metadata": {
        "id": "view-in-github",
        "colab_type": "text"
      },
      "source": [
        "<a href=\"https://colab.research.google.com/github/Niba-khan/Assignment4/blob/main/Assignment_01.ipynb\" target=\"_parent\"><img src=\"https://colab.research.google.com/assets/colab-badge.svg\" alt=\"Open In Colab\"/></a>"
      ]
    },
    {
      "cell_type": "markdown",
      "source": [
        "# **Assignment 1: 01_Basic**"
      ],
      "metadata": {
        "id": "kxJ6Gz8vCoAN"
      }
    },
    {
      "cell_type": "code",
      "source": [
        "#00_joke_bot:\n",
        "\n",
        "import random\n",
        "\n",
        "def get_random_joke():\n",
        "    jokes = {\n",
        "         1: \"🖥️ Why did the computer catch a cold? Because it left its Windows open!\",\n",
        "         2: \"🌳 Why don’t programmers like the outdoors? Too many bugs!\",\n",
        "         3: \"☕ Why did the coffee file a police report? It got mugged!\",\n",
        "         4: \"💀 Why didn’t the skeleton attend the party? He had no body to go with!\",\n",
        "         5: \"💸 Why did the developer go bankrupt? He cleared all his cache!\"\n",
        "    }\n",
        "    random_key = random.randint(1, len(jokes))\n",
        "    return jokes[random_key]\n",
        "\n",
        "def joke_bot():\n",
        "    print(\"👋 Hello! I'm JokeBot 2.0\")\n",
        "    name = input(\"What's your name? \")\n",
        "\n",
        "    while True:\n",
        "        choice = input(f\"{name}, would you like to hear a joke? (yes/no): \").strip().lower()\n",
        "\n",
        "        if choice == 'yes':\n",
        "            joke = get_random_joke()\n",
        "            print(f\"\\n😂 Here's your joke:\\n{joke}\\n\")\n",
        "        elif choice == 'no':\n",
        "            print(\"Good Byeeee! Have a Good Day 👋\")\n",
        "            break\n",
        "        else:\n",
        "            print(\"Oops! Please reply with 'yes' or 'no'.\")\n",
        "\n",
        "joke_bot()\n"
      ],
      "metadata": {
        "colab": {
          "base_uri": "https://localhost:8080/"
        },
        "id": "plRcWPuEC2jZ",
        "outputId": "cb2e8991-b1b9-47e2-c98b-b811ddd839bc"
      },
      "execution_count": 3,
      "outputs": [
        {
          "output_type": "stream",
          "name": "stdout",
          "text": [
            "👋 Hello! I'm JokeBot 2.0\n",
            "What's your name? Niba khan\n",
            "Niba khan, would you like to hear a joke? (yes/no): \"🖥️ Why did the computer catch a cold? Because it left its Windows open!\"\n",
            "Oops! Please reply with 'yes' or 'no'.\n",
            "Niba khan, would you like to hear a joke? (yes/no): yes\n",
            "\n",
            "😂 Here's your joke:\n",
            "💸 Why did the developer go bankrupt? He cleared all his cache!\n",
            "\n",
            "Niba khan, would you like to hear a joke? (yes/no): \"🌳 Why don’t programmers like the outdoors? Too many bugs!\",\n",
            "Oops! Please reply with 'yes' or 'no'.\n",
            "Niba khan, would you like to hear a joke? (yes/no): yes\n",
            "\n",
            "😂 Here's your joke:\n",
            "☕ Why did the coffee file a police report? It got mugged!\n",
            "\n",
            "Niba khan, would you like to hear a joke? (yes/no):  4: \"💀 Why didn’t the skeleton attend the party? He had no body to go with!\",\n",
            "Oops! Please reply with 'yes' or 'no'.\n",
            "Niba khan, would you like to hear a joke? (yes/no): no\n",
            "Good Byeeee! Have a Good Day 👋\n"
          ]
        }
      ]
    },
    {
      "cell_type": "code",
      "source": [
        "#01_double:\n",
        "\n",
        "def double_it(number):\n",
        "    return number * 2\n",
        "\n",
        "while True:\n",
        "    user_input = input(\"Enter a number (or 'quit' to exit): \")\n",
        "\n",
        "    if user_input.lower() == 'quit':\n",
        "        print(\"Goodbyeeee!\")\n",
        "        break\n",
        "\n",
        "    number = float(user_input)\n",
        "    result = double_it(number)\n",
        "    print(f\"Double of {number} is {result}\")\n"
      ],
      "metadata": {
        "colab": {
          "base_uri": "https://localhost:8080/"
        },
        "id": "mH49jRLgJGL5",
        "outputId": "cd3fdd19-d8f7-49cb-cb6e-133ade9bc536"
      },
      "execution_count": 5,
      "outputs": [
        {
          "output_type": "stream",
          "name": "stdout",
          "text": [
            "Enter a number (or 'quit' to exit): 7\n",
            "Double of 7.0 is 14.0\n",
            "Enter a number (or 'quit' to exit): 4\n",
            "Double of 4.0 is 8.0\n",
            "Enter a number (or 'quit' to exit): 2\n",
            "Double of 2.0 is 4.0\n",
            "Enter a number (or 'quit' to exit): quit\n",
            "Goodbyeeee!\n"
          ]
        }
      ]
    },
    {
      "cell_type": "code",
      "source": [
        "#03_guess_my_number:\n",
        "\n",
        "import time\n",
        "\n",
        "def countdown(start):\n",
        "    while start > 0:\n",
        "        print(start)\n",
        "        time.sleep(1)\n",
        "        start -= 1\n",
        "    print(\"Liftoff!\")\n",
        "\n",
        "print(\"Fixed Countdown\")\n",
        "countdown(10)\n",
        "\n",
        "try:\n",
        "    user_input = int(input(\"\\nEnter countdown start value: \"))\n",
        "    print(\"Custom Countdown\")\n",
        "    countdown(user_input)\n",
        "except ValueError:\n",
        "    print(\"Invalid input! Please enter a number.\")\n",
        "except KeyboardInterrupt:\n",
        "    print(\"\\nCountdown interrupted!\")\n"
      ],
      "metadata": {
        "colab": {
          "base_uri": "https://localhost:8080/"
        },
        "id": "L-GE2ow2QVFw",
        "outputId": "e83c5c62-0f64-49ec-dc7d-0d689df530bd"
      },
      "execution_count": 6,
      "outputs": [
        {
          "output_type": "stream",
          "name": "stdout",
          "text": [
            "Fixed Countdown\n",
            "10\n",
            "9\n",
            "8\n",
            "7\n",
            "6\n",
            "5\n",
            "4\n",
            "3\n",
            "2\n",
            "1\n",
            "Liftoff!\n",
            "\n",
            "Enter countdown start value: 7\n",
            "Custom Countdown\n",
            "7\n",
            "6\n",
            "5\n",
            "4\n",
            "3\n",
            "2\n",
            "1\n",
            "Liftoff!\n"
          ]
        }
      ]
    },
    {
      "cell_type": "code",
      "source": [
        "#04_random_numbers:\n",
        "\n",
        "import random\n",
        "\n",
        "count = int(input(\"How many random numbers do you want to generate? \"))\n",
        "\n",
        "print(f\"\\nHere are {count} random numbers between 1 and 100:\\n\")\n",
        "\n",
        "for _ in range(count):\n",
        "    print(random.randint(1, 100), end=' ')\n"
      ],
      "metadata": {
        "colab": {
          "base_uri": "https://localhost:8080/"
        },
        "id": "tyR9K6xBRjON",
        "outputId": "d3b4ad68-20eb-43af-c2e2-8106e2b777ed"
      },
      "execution_count": 7,
      "outputs": [
        {
          "output_type": "stream",
          "name": "stdout",
          "text": [
            "How many random numbers do you want to generate? 5\n",
            "\n",
            "Here are 5 random numbers between 1 and 100:\n",
            "\n",
            "90 90 69 9 56 "
          ]
        }
      ]
    }
  ]
}