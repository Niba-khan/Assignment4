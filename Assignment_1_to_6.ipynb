{
  "nbformat": 4,
  "nbformat_minor": 0,
  "metadata": {
    "colab": {
      "provenance": [],
      "authorship_tag": "ABX9TyM9yJDKup0QzI1r0L4PwlES",
      "include_colab_link": true
    },
    "kernelspec": {
      "name": "python3",
      "display_name": "Python 3"
    },
    "language_info": {
      "name": "python"
    }
  },
  "cells": [
    {
      "cell_type": "markdown",
      "metadata": {
        "id": "view-in-github",
        "colab_type": "text"
      },
      "source": [
        "<a href=\"https://colab.research.google.com/github/Niba-khan/Assignment4/blob/main/Assignment_1_to_6.ipynb\" target=\"_parent\"><img src=\"https://colab.research.google.com/assets/colab-badge.svg\" alt=\"Open In Colab\"/></a>"
      ]
    },
    {
      "cell_type": "markdown",
      "source": [],
      "metadata": {
        "id": "7YtMzBI8M1s4"
      }
    },
    {
      "cell_type": "code",
      "source": [
        "#Project_01: Mad libs Python Project:\n",
        "def mad_libs():\n",
        "    print(\"Let's Play Mad Libs! Fill in the Blanks with your own words\")\n",
        "\n",
        "    name = input(\"Enter a name: \")\n",
        "    place = input(\"Enter a place: \")\n",
        "    funny_adj = input(\"Enter a funny adjective: \")\n",
        "    animal = input(\"Enter an animal: \")\n",
        "    food = input(\"Enter your favorite food: \")\n",
        "    random_obj = input(\"Enter a random object: \")\n",
        "    emotion = input(\"Enter an emotion: \")\n",
        "    action_verb = input(\"Enter an action verb: \")\n",
        "\n",
        "    story = f\"\"\"\n",
        "    One day, {name} went to {place}. It was a very {funny_adj} day.\n",
        "    Suddenly, a {animal} appeared and stole their {food}!\n",
        "    {name} chased the {animal} with a {random_obj}, feeling very {emotion}.\n",
        "    In the end, they all decided to {action_verb} together and became friends.\n",
        "    The end!\n",
        "    \"\"\"\n",
        "\n",
        "    print(story)\n",
        "\n",
        "# Function ko call karna na bhoolna:\n",
        "mad_libs()\n"
      ],
      "metadata": {
        "id": "qkWfWOllM1-T",
        "colab": {
          "base_uri": "https://localhost:8080/"
        },
        "outputId": "3562cf39-2c95-4d5e-a97a-5d1a178936c5"
      },
      "execution_count": null,
      "outputs": [
        {
          "output_type": "stream",
          "name": "stdout",
          "text": [
            "Let's Play Mad Libs! Fill in the Blanks with your own words\n",
            "Enter a name: Niba khan\n",
            "Enter a place: Islamabad\n",
            "Enter a funny adjective: bouncy\n",
            "Enter an animal: Cat\n",
            "Enter your favorite food: Pasta\n",
            "Enter a random object: toothbrush\n",
            "Enter an emotion: happy\n",
            "Enter an action verb: jump\n",
            "\n",
            "    One day, Niba khan went to Islamabad. It was a very bouncy day.\n",
            "    Suddenly, a Cat appeared and stole their Pasta!\n",
            "    Niba khan chased the Cat with a toothbrush, feeling very happy.\n",
            "    In the end, they all decided to jump together and became friends.\n",
            "    The end!\n",
            "    \n"
          ]
        }
      ]
    },
    {
      "cell_type": "code",
      "source": [
        "#Project_02: Guess the Number Game Python Project (computer):\n",
        "import random\n",
        "\n",
        "def guess_the_number():\n",
        "    print(\"Welcome to the Guess the Number Game!\")\n",
        "    print(\"I'm thinking of a number between 1 and 100.\")\n",
        "\n",
        "    number_to_guess = random.randint(1, 100)\n",
        "    attempts = 0\n",
        "    guessed = False\n",
        "\n",
        "    while not guessed:\n",
        "        user_input = input(\"Take a guess: \")\n",
        "\n",
        "        # Check if the input is a number\n",
        "        if not user_input.isdigit():\n",
        "            print(\"Please enter a valid number.\")\n",
        "            continue\n",
        "\n",
        "        guess = int(user_input)\n",
        "        attempts += 1\n",
        "\n",
        "        if guess < number_to_guess:\n",
        "            print(\"Too low! Try again.\")\n",
        "        elif guess > number_to_guess:\n",
        "            print(\"Too high! Try again.\")\n",
        "        else:\n",
        "            print(f\"🎉 Congrats! You guessed it in {attempts} tries. The number was {number_to_guess}.\")\n",
        "            guessed = True\n",
        "\n",
        "# Run the game\n",
        "guess_the_number()"
      ],
      "metadata": {
        "id": "MZxkU9kuOzRr",
        "colab": {
          "base_uri": "https://localhost:8080/"
        },
        "outputId": "bc1d405c-0fe0-4eef-9723-c5f6b0d38a93"
      },
      "execution_count": null,
      "outputs": [
        {
          "output_type": "stream",
          "name": "stdout",
          "text": [
            "Welcome to the Guess the Number Game!\n",
            "I'm thinking of a number between 1 and 100.\n",
            "Take a guess: 77\n",
            "Too high! Try again.\n",
            "Take a guess: 89\n",
            "Too high! Try again.\n",
            "Take a guess: 99\n",
            "Too high! Try again.\n",
            "Take a guess: 0\n",
            "Too low! Try again.\n",
            "Take a guess: 88\n",
            "Too high! Try again.\n",
            "Take a guess: 09\n",
            "Too low! Try again.\n",
            "Take a guess: 33\n",
            "Too low! Try again.\n",
            "Take a guess: 888\n",
            "Too high! Try again.\n",
            "Take a guess: 000\n",
            "Too low! Try again.\n"
          ]
        }
      ]
    },
    {
      "cell_type": "code",
      "source": [
        "#Project 3: Guess the Number Game (User\n",
        "\n",
        "import random\n",
        "\n",
        "def computer_guesses_number(max_value):\n",
        "    print(f\"\\n Think of a number between 1 and {max_value}.\")\n",
        "    print(\" I will try to guess it!\")\n",
        "    input(\" Press Enter when you're ready...\")\n",
        "\n",
        "    low = 1\n",
        "    high = max_value\n",
        "    attempts = 0\n",
        "\n",
        "    while True:\n",
        "        if low != high:\n",
        "            guess = random.randint(low, high)\n",
        "        else:\n",
        "            guess = low\n",
        "\n",
        "        attempts += 1\n",
        "        print(f\"\\n Is your number {guess}?\")\n",
        "        feedback = input(\" Enter 'H' for too high, 'L' for too low, 'C' for correct: \").strip().lower()\n",
        "\n",
        "        if feedback == 'h':\n",
        "            high = guess - 1\n",
        "        elif feedback == 'l':\n",
        "            low = guess + 1\n",
        "        elif feedback == 'c':\n",
        "            print(f\"\\n Yay! I guessed your number {guess} in {attempts} tries!\")\n",
        "            break\n",
        "        else:\n",
        "            print(\" Invalid input. Please enter H, L, or C.\")\n",
        "\n",
        "computer_guesses_number(50)"
      ],
      "metadata": {
        "colab": {
          "base_uri": "https://localhost:8080/"
        },
        "id": "Chzxt6w3EMZ-",
        "outputId": "97e11824-0e7a-4857-c134-20ce4684eed0"
      },
      "execution_count": null,
      "outputs": [
        {
          "output_type": "stream",
          "name": "stdout",
          "text": [
            "\n",
            " Think of a number between 1 and 50.\n",
            " I will try to guess it!\n",
            " Press Enter when you're ready...44\n",
            "\n",
            " Is your number 44?\n",
            " Enter 'H' for too high, 'L' for too low, 'C' for correct: 3\n",
            " Invalid input. Please enter H, L, or C.\n",
            "\n",
            " Is your number 17?\n",
            " Enter 'H' for too high, 'L' for too low, 'C' for correct: 23\n",
            " Invalid input. Please enter H, L, or C.\n",
            "\n",
            " Is your number 2?\n",
            " Enter 'H' for too high, 'L' for too low, 'C' for correct: 44\n",
            " Invalid input. Please enter H, L, or C.\n",
            "\n",
            " Is your number 15?\n",
            " Enter 'H' for too high, 'L' for too low, 'C' for correct: 55\n",
            " Invalid input. Please enter H, L, or C.\n",
            "\n",
            " Is your number 21?\n",
            " Enter 'H' for too high, 'L' for too low, 'C' for correct: 77\n",
            " Invalid input. Please enter H, L, or C.\n",
            "\n",
            " Is your number 28?\n",
            " Enter 'H' for too high, 'L' for too low, 'C' for correct: \n",
            " Invalid input. Please enter H, L, or C.\n",
            "\n",
            " Is your number 14?\n",
            " Enter 'H' for too high, 'L' for too low, 'C' for correct: 0\n",
            " Invalid input. Please enter H, L, or C.\n",
            "\n",
            " Is your number 20?\n"
          ]
        }
      ]
    },
    {
      "cell_type": "code",
      "source": [
        "#Project 4: Rock, Paper, Scissors Python Project\n",
        "\n",
        "import random\n",
        "\n",
        "def rps_game():\n",
        "    choices = [\"rock\", \"paper\", \"scissors\"]\n",
        "    user = input(\"Enter your choice (rock, paper, scissors): \").lower()\n",
        "\n",
        "    if user not in choices:\n",
        "        print(\"Invalid choice! Please try again.\")\n",
        "        return\n",
        "\n",
        "    computer = random.choice(choices)\n",
        "\n",
        "    print(f\"\\nYou chose: {user}\")\n",
        "    print(f\"Computer chose: {computer}\")\n",
        "\n",
        "    if user == computer:\n",
        "        print(\"It's a tie!\")\n",
        "    elif (user == \"rock\" and computer == \"scissors\") or \\\n",
        "         (user == \"scissors\" and computer == \"paper\") or \\\n",
        "         (user == \"paper\" and computer == \"rock\"):\n",
        "        print(\" You win!\")\n",
        "    else:\n",
        "        print(\" You lose!\")\n",
        "\n",
        "while True:\n",
        "    play = input(\"\\nDo you want to play Rock, Paper, Scissors? (yes/quit): \").lower()\n",
        "    if play == \"quit\":\n",
        "        print(\"Thanks for playing! \")\n",
        "        break\n",
        "    rps_game()"
      ],
      "metadata": {
        "colab": {
          "base_uri": "https://localhost:8080/"
        },
        "id": "SF6N8W33FhVv",
        "outputId": "a4ed5966-3994-4b26-fc9b-e07ae616c175"
      },
      "execution_count": 1,
      "outputs": [
        {
          "output_type": "stream",
          "name": "stdout",
          "text": [
            "\n",
            "Do you want to play Rock, Paper, Scissors? (yes/quit): yes\n",
            "Enter your choice (rock, paper, scissors): rock\n",
            "\n",
            "You chose: rock\n",
            "Computer chose: scissors\n",
            " You win!\n",
            "\n",
            "Do you want to play Rock, Paper, Scissors? (yes/quit): scisssor\n",
            "Enter your choice (rock, paper, scissors): paper\n",
            "\n",
            "You chose: paper\n",
            "Computer chose: paper\n",
            "It's a tie!\n",
            "\n",
            "Do you want to play Rock, Paper, Scissors? (yes/quit): quit\n",
            "Thanks for playing! \n"
          ]
        }
      ]
    },
    {
      "cell_type": "code",
      "source": [
        "# Project 5: Hangman Python Project:\n",
        "\n",
        "import random\n",
        "\n",
        "words = [\"python\", \"computer\", \"hangman\", \"programming\", \"challenge\"]\n",
        "word_to_guess = random.choice(words)\n",
        "guessed_word = [\"_\"] * len(word_to_guess)\n",
        "attempts_left = 6\n",
        "\n",
        "def display_word():\n",
        "    print(\"Current word: \" + \" \".join(guessed_word))\n",
        "\n",
        "def hangman():\n",
        "    global attempts_left\n",
        "    print(\"Welcome to Hangman Game!\")\n",
        "    display_word()\n",
        "\n",
        "    while attempts_left > 0:\n",
        "        guess = input(\"\\nGuess a letter: \").lower()\n",
        "\n",
        "        if len(guess) != 1 or not guess.isalpha():\n",
        "            print(\"Invalid input! Please enter a single letter.\")\n",
        "            continue\n",
        "\n",
        "        if guess in guessed_word:\n",
        "            print(\"You've already guessed that letter!\")\n",
        "            continue\n",
        "\n",
        "        if guess in word_to_guess:\n",
        "            print(f\"Good guess! The letter '{guess}' is in the word.\")\n",
        "            for i in range(len(word_to_guess)):\n",
        "                if word_to_guess[i] == guess:\n",
        "                    guessed_word[i] = guess\n",
        "        else:\n",
        "            print(f\"Oops! The letter '{guess}' is not in the word.\")\n",
        "            attempts_left -= 1\n",
        "\n",
        "        display_word()\n",
        "        print(f\"Attempts left: {attempts_left}\")\n",
        "\n",
        "        if \"_\" not in guessed_word:\n",
        "            print(\"\\n🎉 Congratulations! You've guessed the word correctly:\", word_to_guess)\n",
        "            break\n",
        "\n",
        "    if attempts_left == 0:\n",
        "        print(f\"\\nGame Over! The word was: {word_to_guess}\")\n",
        "\n",
        "hangman()"
      ],
      "metadata": {
        "colab": {
          "base_uri": "https://localhost:8080/"
        },
        "id": "i_V7YGR5uFQz",
        "outputId": "838f2e25-792f-459d-ab00-cd3fe793503c"
      },
      "execution_count": 2,
      "outputs": [
        {
          "output_type": "stream",
          "name": "stdout",
          "text": [
            "Welcome to Hangman Game!\n",
            "Current word: _ _ _ _ _ _ _\n",
            "\n",
            "Guess a letter: z\n",
            "Oops! The letter 'z' is not in the word.\n",
            "Current word: _ _ _ _ _ _ _\n",
            "Attempts left: 5\n",
            "\n",
            "Guess a letter: o\n",
            "Oops! The letter 'o' is not in the word.\n",
            "Current word: _ _ _ _ _ _ _\n",
            "Attempts left: 4\n",
            "\n",
            "Guess a letter: j\n",
            "Oops! The letter 'j' is not in the word.\n",
            "Current word: _ _ _ _ _ _ _\n",
            "Attempts left: 3\n",
            "\n",
            "Guess a letter: f\n",
            "Oops! The letter 'f' is not in the word.\n",
            "Current word: _ _ _ _ _ _ _\n",
            "Attempts left: 2\n",
            "\n",
            "Guess a letter: k\n",
            "Oops! The letter 'k' is not in the word.\n",
            "Current word: _ _ _ _ _ _ _\n",
            "Attempts left: 1\n",
            "\n",
            "Guess a letter: lu\n",
            "Invalid input! Please enter a single letter.\n",
            "\n",
            "Guess a letter: challenge\n",
            "Invalid input! Please enter a single letter.\n",
            "\n",
            "Guess a letter: d\n",
            "Oops! The letter 'd' is not in the word.\n",
            "Current word: _ _ _ _ _ _ _\n",
            "Attempts left: 0\n",
            "\n",
            "Game Over! The word was: hangman\n"
          ]
        }
      ]
    },
    {
      "cell_type": "code",
      "source": [
        "#Project 6: Countdown Timer Python Project\n",
        "\n",
        "import time\n",
        "\n",
        "def display_time(seconds):\n",
        "    \"\"\"Display the current countdown time in seconds.\"\"\"\n",
        "    print(f\"Time left: {seconds} seconds\")\n",
        "\n",
        "def start_timer(seconds):\n",
        "    \"\"\"Start the countdown timer.\"\"\"\n",
        "    print(f\"Countdown started for {seconds} seconds...\")\n",
        "\n",
        "    while seconds > 0:\n",
        "        display_time(seconds)\n",
        "        time.sleep(1)\n",
        "        seconds -= 1\n",
        "\n",
        "    print(\"Time's up! ⏰\")\n",
        "\n",
        "def get_user_input():\n",
        "    \"\"\"Get user input for countdown time.\"\"\"\n",
        "    try:\n",
        "        return int(input(\"Enter the countdown time in seconds: \"))\n",
        "    except ValueError:\n",
        "        print(\"Invalid input! Please enter a valid number.\")\n",
        "        return None\n",
        "\n",
        "def main():\n",
        "    \"\"\"Main function to drive the countdown timer.\"\"\"\n",
        "    user_input = get_user_input()\n",
        "\n",
        "    if user_input is not None:\n",
        "        start_timer(user_input)\n",
        "\n",
        "main()\n"
      ],
      "metadata": {
        "colab": {
          "base_uri": "https://localhost:8080/"
        },
        "id": "ultd0BVkwOvD",
        "outputId": "70143a14-12ba-431f-eafe-8589c21a01f3"
      },
      "execution_count": 3,
      "outputs": [
        {
          "output_type": "stream",
          "name": "stdout",
          "text": [
            "Enter the countdown time in seconds: 3\n",
            "Countdown started for 3 seconds...\n",
            "Time left: 3 seconds\n",
            "Time left: 2 seconds\n",
            "Time left: 1 seconds\n",
            "Time's up! ⏰\n"
          ]
        }
      ]
    }
  ]
}